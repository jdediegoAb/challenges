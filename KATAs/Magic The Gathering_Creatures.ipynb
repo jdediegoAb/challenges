{
 "cells": [
  {
   "cell_type": "code",
   "execution_count": 47,
   "id": "89858621",
   "metadata": {},
   "outputs": [],
   "source": [
    "def card(c1, c2):\n",
    "    if c1[0] >= c2[1] and c1[1] > c2[0]:\n",
    "        return c1, None\n",
    "    elif c2[0] >= c1[1] and c2[1] > c1[0]:\n",
    "        return None, c2\n",
    "    elif c1[0] < c2[1] and c1[1] > c2[0]:\n",
    "        return c1, c2\n",
    "    else:\n",
    "        return None, None\n",
    "\n",
    "def battle(player1, player2):\n",
    "    matches = min(len(player1), len(player2))\n",
    "    for match in range(matches):\n",
    "        player1[match], player2[match] = card(player1[match], player2[match])\n",
    "        print(player1, f'Loop number {match}')\n",
    "        print(player2, f'Loop number {match}')\n",
    "    player1 = list(filter(lambda x: x is not None, player1))\n",
    "    player2 = list(filter(lambda x: x is not None, player2))\n",
    "    print(player1)\n",
    "    print(player2)\n",
    "    final_dict = {\"player1\": player1, \"player2\": player2}\n",
    "    return final_dict\n"
   ]
  },
  {
   "cell_type": "code",
   "execution_count": 48,
   "id": "1f396bc5",
   "metadata": {},
   "outputs": [],
   "source": [
    "p1 = [[1, 1], [2, 1], [2, 2], [5, 5]]\n",
    "p2 = [[1, 2], [1, 2], [3, 3]]\n"
   ]
  },
  {
   "cell_type": "code",
   "execution_count": 49,
   "id": "2dc9067e",
   "metadata": {},
   "outputs": [
    {
     "name": "stdout",
     "output_type": "stream",
     "text": [
      "[None, [2, 1], [2, 2], [5, 5]] Loop number 0\n",
      "[[1, 2], [1, 2], [3, 3]] Loop number 0\n",
      "[None, None, [2, 2], [5, 5]] Loop number 1\n",
      "[[1, 2], None, [3, 3]] Loop number 1\n",
      "[None, None, None, [5, 5]] Loop number 2\n",
      "[[1, 2], None, [3, 3]] Loop number 2\n",
      "[[5, 5]]\n",
      "[[1, 2], [3, 3]]\n"
     ]
    },
    {
     "data": {
      "text/plain": [
       "{'player1': [[5, 5]], 'player2': [[1, 2], [3, 3]]}"
      ]
     },
     "execution_count": 49,
     "metadata": {},
     "output_type": "execute_result"
    }
   ],
   "source": [
    "battle(p1, p2)\n",
    "\n"
   ]
  },
  {
   "cell_type": "code",
   "execution_count": null,
   "id": "3c3e9092",
   "metadata": {},
   "outputs": [],
   "source": []
  }
 ],
 "metadata": {
  "kernelspec": {
   "display_name": "Python [conda env:m2-ih]",
   "language": "python",
   "name": "conda-env-m2-ih-py"
  },
  "language_info": {
   "codemirror_mode": {
    "name": "ipython",
    "version": 3
   },
   "file_extension": ".py",
   "mimetype": "text/x-python",
   "name": "python",
   "nbconvert_exporter": "python",
   "pygments_lexer": "ipython3",
   "version": "3.9.12"
  }
 },
 "nbformat": 4,
 "nbformat_minor": 5
}
