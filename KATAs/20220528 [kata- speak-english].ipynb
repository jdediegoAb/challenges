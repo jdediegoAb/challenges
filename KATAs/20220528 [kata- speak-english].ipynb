{
 "cells": [
  {
   "cell_type": "markdown",
   "id": "51d25bc1",
   "metadata": {},
   "source": [
    "# Kata sábado 28/05/2022"
   ]
  },
  {
   "cell_type": "markdown",
   "id": "4730b5d6",
   "metadata": {},
   "source": [
    "# English"
   ]
  },
  {
   "cell_type": "code",
   "execution_count": 1,
   "id": "ad4d8966",
   "metadata": {},
   "outputs": [],
   "source": [
    "#\n",
    "def sp_eng(sentence):\n",
    "    return \"english\" in sentence.lower()\n",
    " \n",
    "  \n"
   ]
  },
  {
   "cell_type": "code",
   "execution_count": 2,
   "id": "dbcd397a",
   "metadata": {},
   "outputs": [],
   "source": [
    "def domain_name(url):\n",
    "    url_clean = url.replace(\"http://\",\"\").replace(\"https://\",\"\").replace(\"www.\",\"\")\n",
    "    domain = url_clean.split('.')[0]\n",
    "    return domain"
   ]
  },
  {
   "cell_type": "code",
   "execution_count": null,
   "id": "6c1ea50a",
   "metadata": {},
   "outputs": [],
   "source": []
  }
 ],
 "metadata": {
  "kernelspec": {
   "display_name": "Python [conda env:m1-ih]",
   "language": "python",
   "name": "conda-env-m1-ih-py"
  },
  "language_info": {
   "codemirror_mode": {
    "name": "ipython",
    "version": 3
   },
   "file_extension": ".py",
   "mimetype": "text/x-python",
   "name": "python",
   "nbconvert_exporter": "python",
   "pygments_lexer": "ipython3",
   "version": "3.9.12"
  }
 },
 "nbformat": 4,
 "nbformat_minor": 5
}
