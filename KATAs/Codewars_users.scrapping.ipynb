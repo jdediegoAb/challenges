{
 "cells": [
  {
   "cell_type": "code",
   "execution_count": 2,
   "id": "672ef5cd",
   "metadata": {},
   "outputs": [],
   "source": [
    "import requests\n",
    "from bs4 import BeautifulSoup\n",
    "import re"
   ]
  },
  {
   "cell_type": "code",
   "execution_count": 44,
   "id": "ad7f35cd",
   "metadata": {},
   "outputs": [],
   "source": [
    "username='j.dediego'\n",
    "url = 'https://www.codewars.com/users/' +username\n"
   ]
  },
  {
   "cell_type": "code",
   "execution_count": 53,
   "id": "29ae5e65",
   "metadata": {},
   "outputs": [],
   "source": [
    "r= requests.get(url)\n",
    "r=r.content\n",
    "parsed_html = BeautifulSoup(r, \"html.parser\") \n"
   ]
  },
  {
   "cell_type": "code",
   "execution_count": 54,
   "id": "772cb547",
   "metadata": {},
   "outputs": [],
   "source": [
    "user=parsed_html.find_all('div',{\"class\",\"stat-box mt-1 mb-1 md:mb-0\"})\n",
    "string=str(user[1])\n"
   ]
  },
  {
   "cell_type": "code",
   "execution_count": 47,
   "id": "21c864b0",
   "metadata": {},
   "outputs": [],
   "source": [
    "pattern = '\\>(.*?)\\<'\n",
    "fecha=re.findall(pattern, string)"
   ]
  },
  {
   "cell_type": "code",
   "execution_count": 49,
   "id": "2ba45286",
   "metadata": {},
   "outputs": [
    {
     "data": {
      "text/plain": [
       "'May 2022'"
      ]
     },
     "execution_count": 49,
     "metadata": {},
     "output_type": "execute_result"
    }
   ],
   "source": [
    "fecha[3]"
   ]
  },
  {
   "cell_type": "code",
   "execution_count": 50,
   "id": "c7031468",
   "metadata": {},
   "outputs": [],
   "source": [
    "def get_member_since(username):\n",
    "    url = 'https://www.codewars.com/users/' +username\n",
    "    r= requests.get(url)\n",
    "    r=r.content\n",
    "    parsed_html = BeautifulSoup(r, \"html.parser\") \n",
    "    user=parsed_html.find_all('div',{\"class\",\"stat-box mt-1 mb-1 md:mb-0\"})\n",
    "    string=str(user[1])\n",
    "    pattern = '\\>(.*?)\\<'\n",
    "    fecha=re.findall(pattern, string)\n",
    "    return fecha[3]"
   ]
  },
  {
   "cell_type": "code",
   "execution_count": 52,
   "id": "b8973582",
   "metadata": {},
   "outputs": [
    {
     "data": {
      "text/plain": [
       "'May 2022'"
      ]
     },
     "execution_count": 52,
     "metadata": {},
     "output_type": "execute_result"
    }
   ],
   "source": [
    "get_member_since('j.dediego')"
   ]
  },
  {
   "cell_type": "code",
   "execution_count": null,
   "id": "5e67ef06",
   "metadata": {},
   "outputs": [],
   "source": []
  }
 ],
 "metadata": {
  "kernelspec": {
   "display_name": "Python [conda env:m1-ih]",
   "language": "python",
   "name": "conda-env-m1-ih-py"
  },
  "language_info": {
   "codemirror_mode": {
    "name": "ipython",
    "version": 3
   },
   "file_extension": ".py",
   "mimetype": "text/x-python",
   "name": "python",
   "nbconvert_exporter": "python",
   "pygments_lexer": "ipython3",
   "version": "3.9.13"
  }
 },
 "nbformat": 4,
 "nbformat_minor": 5
}
