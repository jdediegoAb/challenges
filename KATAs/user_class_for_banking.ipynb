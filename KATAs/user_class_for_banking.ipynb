{
 "cells": [
  {
   "cell_type": "code",
   "execution_count": null,
   "id": "61e3bd04",
   "metadata": {},
   "outputs": [],
   "source": [
    "class User(object):\n",
    "    def __init__(self, name, balance, checking_account):\n",
    "        self.name = name\n",
    "        self.balance = balance\n",
    "        self.checking_account = checking_account\n",
    "\n",
    "    def withdraw(self,money,):\n",
    "        if self.balance-money<0:\n",
    "            raise TypeError(\"isn't enough money to withdraw\")\n",
    "        self.balance-=money\n",
    "        return f'{self.name} has {self.balance}.'\n",
    " \n",
    "    def check(self,other_user,money ):\n",
    "        if other_user.checking_account:\n",
    "            if other_user.balance >= money:\n",
    "                self.balance+=money\n",
    "                other_user.balance-=money\n",
    "            else:\n",
    "                raise ValueError(\"that client does not exist.\")\n",
    "        else:\n",
    "            raise ValueError(f'{other_user.name} has no money enough.')\n",
    "        return f'{self.name} has {self.balance} and {other_user.name} has {other_user.balance}.'\n",
    "    \n",
    "    def add_cash(self,money):\n",
    "        self.balance+=money\n",
    "        \n",
    "        return f'{self.name} has {self.balance}.'\n",
    "        "
   ]
  }
 ],
 "metadata": {
  "kernelspec": {
   "display_name": "Python [conda env:m1-ih]",
   "language": "python",
   "name": "conda-env-m1-ih-py"
  },
  "language_info": {
   "codemirror_mode": {
    "name": "ipython",
    "version": 3
   },
   "file_extension": ".py",
   "mimetype": "text/x-python",
   "name": "python",
   "nbconvert_exporter": "python",
   "pygments_lexer": "ipython3",
   "version": "3.9.12"
  }
 },
 "nbformat": 4,
 "nbformat_minor": 5
}
