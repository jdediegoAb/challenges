{
 "cells": [
  {
   "cell_type": "code",
   "execution_count": null,
   "id": "37e1cd97",
   "metadata": {},
   "outputs": [],
   "source": [
    "\"\"\"SELECT\n",
    "  customer.customer_id,\n",
    "  customer.email,\n",
    "  COUNT(payment.payment_id) AS payments_count,\n",
    "  CAST(SUM(payment.amount) AS float) AS total_amount\n",
    "FROM customer\n",
    "JOIN payment\n",
    "  ON customer.customer_id = payment.customer_id\n",
    "GROUP BY customer.customer_id\n",
    "ORDER BY total_amount DESC\n",
    "LIMIT 10\"\"\""
   ]
  }
 ],
 "metadata": {
  "kernelspec": {
   "display_name": "Python [conda env:m1-ih]",
   "language": "python",
   "name": "conda-env-m1-ih-py"
  },
  "language_info": {
   "codemirror_mode": {
    "name": "ipython",
    "version": 3
   },
   "file_extension": ".py",
   "mimetype": "text/x-python",
   "name": "python",
   "nbconvert_exporter": "python",
   "pygments_lexer": "ipython3",
   "version": "3.9.12"
  }
 },
 "nbformat": 4,
 "nbformat_minor": 5
}
