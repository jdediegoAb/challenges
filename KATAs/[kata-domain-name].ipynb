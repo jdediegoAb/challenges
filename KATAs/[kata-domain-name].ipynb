{
 "cells": [
  {
   "cell_type": "code",
   "execution_count": 1,
   "id": "9814a682",
   "metadata": {},
   "outputs": [],
   "source": [
    "def domain_name(url):\n",
    "    url_clean = url.replace(\"http://\",\"\").replace(\"https://\",\"\").replace(\"www.\",\"\")\n",
    "    domain = url_clean.split('.')[0]\n",
    "    return domain"
   ]
  },
  {
   "cell_type": "code",
   "execution_count": null,
   "id": "8eeac5d0",
   "metadata": {},
   "outputs": [],
   "source": []
  }
 ],
 "metadata": {
  "kernelspec": {
   "display_name": "Python [conda env:m1-ih]",
   "language": "python",
   "name": "conda-env-m1-ih-py"
  },
  "language_info": {
   "codemirror_mode": {
    "name": "ipython",
    "version": 3
   },
   "file_extension": ".py",
   "mimetype": "text/x-python",
   "name": "python",
   "nbconvert_exporter": "python",
   "pygments_lexer": "ipython3",
   "version": "3.9.12"
  }
 },
 "nbformat": 4,
 "nbformat_minor": 5
}
