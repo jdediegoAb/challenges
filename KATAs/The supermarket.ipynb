{
 "cells": [
  {
   "cell_type": "code",
   "execution_count": 14,
   "id": "99f68e36",
   "metadata": {},
   "outputs": [],
   "source": [
    "\n",
    "#from functools import reduce\n",
    "#def queue_time(customers, n):\n",
    "    #if n==1:\n",
    "        #return reduce(lambda a,b: a+b,customers) \n",
    "    #elif n>=len(customers):\n",
    "        #return max(customers)\n",
    "   # else:\n",
    "        #(customers.sort)"
   ]
  },
  {
   "cell_type": "code",
   "execution_count": 16,
   "id": "d6c41a8e",
   "metadata": {},
   "outputs": [],
   "source": [
    "def queue_time(customers, n):\n",
    "    print(customers, n)\n",
    "    tills = [0]*n\n",
    "    for i in customers:\n",
    "        tills[0] += i\n",
    "        tills = sorted(tills)\n",
    "        print(tills)\n",
    "    return tills[-1]"
   ]
  },
  {
   "cell_type": "code",
   "execution_count": null,
   "id": "580ebd7f",
   "metadata": {},
   "outputs": [],
   "source": []
  }
 ],
 "metadata": {
  "kernelspec": {
   "display_name": "Python [conda env:m1-ih]",
   "language": "python",
   "name": "conda-env-m1-ih-py"
  },
  "language_info": {
   "codemirror_mode": {
    "name": "ipython",
    "version": 3
   },
   "file_extension": ".py",
   "mimetype": "text/x-python",
   "name": "python",
   "nbconvert_exporter": "python",
   "pygments_lexer": "ipython3",
   "version": "3.9.12"
  }
 },
 "nbformat": 4,
 "nbformat_minor": 5
}
