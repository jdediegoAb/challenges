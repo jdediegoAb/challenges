{
 "cells": [
  {
   "cell_type": "code",
   "execution_count": null,
   "id": "fc50178c",
   "metadata": {},
   "outputs": [],
   "source": [
    "#Codewars challenge 1\n",
    "\n",
    "def balanced_num(number):\n",
    "    number = str(number)\n",
    "    leftsum = 0\n",
    "    rigthsum = 0\n",
    "    a = len(number)\n",
    "    if(a%2 == 0):\n",
    "        b = (a/2)-1\n",
    "    else:\n",
    "        b = a / 2\n",
    "    for i in range(0,int(b)):\n",
    "        leftsum = leftsum + int(number[i])\n",
    "        rigthsum = (rigthsum + int(number[len(number)-1-i]))\n",
    "    if(leftsum == rigthsum):\n",
    "        return\"Balanced\"\n",
    "    else:\n",
    "        return\"Not Balanced\"\n",
    "    pass"
   ]
  }
 ],
 "metadata": {
  "kernelspec": {
   "display_name": "Python 3 (ipykernel)",
   "language": "python",
   "name": "python3"
  },
  "language_info": {
   "codemirror_mode": {
    "name": "ipython",
    "version": 3
   },
   "file_extension": ".py",
   "mimetype": "text/x-python",
   "name": "python",
   "nbconvert_exporter": "python",
   "pygments_lexer": "ipython3",
   "version": "3.9.12"
  }
 },
 "nbformat": 4,
 "nbformat_minor": 5
}
